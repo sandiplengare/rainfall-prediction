{
 "cells": [
  {
   "cell_type": "markdown",
   "metadata": {},
   "source": [
    "# Import the relevant libraries"
   ]
  },
  {
   "cell_type": "code",
   "execution_count": 1,
   "metadata": {},
   "outputs": [],
   "source": [
    "import pandas as pd\n",
    "from sklearn.linear_model import LinearRegression\n",
    "from sklearn.model_selection import train_test_split"
   ]
  },
  {
   "cell_type": "markdown",
   "metadata": {},
   "source": [
    "# Load the dataset"
   ]
  },
  {
   "cell_type": "code",
   "execution_count": 2,
   "metadata": {
    "scrolled": true
   },
   "outputs": [
    {
     "data": {
      "text/html": [
       "<div>\n",
       "<style scoped>\n",
       "    .dataframe tbody tr th:only-of-type {\n",
       "        vertical-align: middle;\n",
       "    }\n",
       "\n",
       "    .dataframe tbody tr th {\n",
       "        vertical-align: top;\n",
       "    }\n",
       "\n",
       "    .dataframe thead th {\n",
       "        text-align: right;\n",
       "    }\n",
       "</style>\n",
       "<table border=\"1\" class=\"dataframe\">\n",
       "  <thead>\n",
       "    <tr style=\"text-align: right;\">\n",
       "      <th></th>\n",
       "      <th>STATE/UT</th>\n",
       "      <th>DISTRICT</th>\n",
       "      <th>JAN</th>\n",
       "      <th>FEB</th>\n",
       "      <th>MAR</th>\n",
       "      <th>APR</th>\n",
       "      <th>MAY</th>\n",
       "      <th>JUN</th>\n",
       "      <th>JUL</th>\n",
       "      <th>AUG</th>\n",
       "      <th>SEP</th>\n",
       "      <th>OCT</th>\n",
       "      <th>NOV</th>\n",
       "      <th>DEC</th>\n",
       "      <th>ANNUAL</th>\n",
       "      <th>JAN+FEB</th>\n",
       "      <th>MAM</th>\n",
       "      <th>JJAS</th>\n",
       "      <th>OND</th>\n",
       "    </tr>\n",
       "  </thead>\n",
       "  <tbody>\n",
       "    <tr>\n",
       "      <th>0</th>\n",
       "      <td>ANDAMAN And NICOBAR ISLANDS</td>\n",
       "      <td>NICOBAR</td>\n",
       "      <td>107.3</td>\n",
       "      <td>57.9</td>\n",
       "      <td>65.2</td>\n",
       "      <td>117.0</td>\n",
       "      <td>358.5</td>\n",
       "      <td>295.5</td>\n",
       "      <td>285.0</td>\n",
       "      <td>271.9</td>\n",
       "      <td>354.8</td>\n",
       "      <td>326.0</td>\n",
       "      <td>315.2</td>\n",
       "      <td>250.9</td>\n",
       "      <td>2805.2</td>\n",
       "      <td>165.2</td>\n",
       "      <td>540.7</td>\n",
       "      <td>1207.2</td>\n",
       "      <td>892.1</td>\n",
       "    </tr>\n",
       "    <tr>\n",
       "      <th>1</th>\n",
       "      <td>ANDAMAN And NICOBAR ISLANDS</td>\n",
       "      <td>SOUTH ANDAMAN</td>\n",
       "      <td>43.7</td>\n",
       "      <td>26.0</td>\n",
       "      <td>18.6</td>\n",
       "      <td>90.5</td>\n",
       "      <td>374.4</td>\n",
       "      <td>457.2</td>\n",
       "      <td>421.3</td>\n",
       "      <td>423.1</td>\n",
       "      <td>455.6</td>\n",
       "      <td>301.2</td>\n",
       "      <td>275.8</td>\n",
       "      <td>128.3</td>\n",
       "      <td>3015.7</td>\n",
       "      <td>69.7</td>\n",
       "      <td>483.5</td>\n",
       "      <td>1757.2</td>\n",
       "      <td>705.3</td>\n",
       "    </tr>\n",
       "    <tr>\n",
       "      <th>2</th>\n",
       "      <td>ANDAMAN And NICOBAR ISLANDS</td>\n",
       "      <td>N &amp; M ANDAMAN</td>\n",
       "      <td>32.7</td>\n",
       "      <td>15.9</td>\n",
       "      <td>8.6</td>\n",
       "      <td>53.4</td>\n",
       "      <td>343.6</td>\n",
       "      <td>503.3</td>\n",
       "      <td>465.4</td>\n",
       "      <td>460.9</td>\n",
       "      <td>454.8</td>\n",
       "      <td>276.1</td>\n",
       "      <td>198.6</td>\n",
       "      <td>100.0</td>\n",
       "      <td>2913.3</td>\n",
       "      <td>48.6</td>\n",
       "      <td>405.6</td>\n",
       "      <td>1884.4</td>\n",
       "      <td>574.7</td>\n",
       "    </tr>\n",
       "    <tr>\n",
       "      <th>3</th>\n",
       "      <td>ARUNACHAL PRADESH</td>\n",
       "      <td>LOHIT</td>\n",
       "      <td>42.2</td>\n",
       "      <td>80.8</td>\n",
       "      <td>176.4</td>\n",
       "      <td>358.5</td>\n",
       "      <td>306.4</td>\n",
       "      <td>447.0</td>\n",
       "      <td>660.1</td>\n",
       "      <td>427.8</td>\n",
       "      <td>313.6</td>\n",
       "      <td>167.1</td>\n",
       "      <td>34.1</td>\n",
       "      <td>29.8</td>\n",
       "      <td>3043.8</td>\n",
       "      <td>123.0</td>\n",
       "      <td>841.3</td>\n",
       "      <td>1848.5</td>\n",
       "      <td>231.0</td>\n",
       "    </tr>\n",
       "    <tr>\n",
       "      <th>4</th>\n",
       "      <td>ARUNACHAL PRADESH</td>\n",
       "      <td>EAST SIANG</td>\n",
       "      <td>33.3</td>\n",
       "      <td>79.5</td>\n",
       "      <td>105.9</td>\n",
       "      <td>216.5</td>\n",
       "      <td>323.0</td>\n",
       "      <td>738.3</td>\n",
       "      <td>990.9</td>\n",
       "      <td>711.2</td>\n",
       "      <td>568.0</td>\n",
       "      <td>206.9</td>\n",
       "      <td>29.5</td>\n",
       "      <td>31.7</td>\n",
       "      <td>4034.7</td>\n",
       "      <td>112.8</td>\n",
       "      <td>645.4</td>\n",
       "      <td>3008.4</td>\n",
       "      <td>268.1</td>\n",
       "    </tr>\n",
       "  </tbody>\n",
       "</table>\n",
       "</div>"
      ],
      "text/plain": [
       "                      STATE/UT       DISTRICT    JAN   FEB    MAR    APR  \\\n",
       "0  ANDAMAN And NICOBAR ISLANDS        NICOBAR  107.3  57.9   65.2  117.0   \n",
       "1  ANDAMAN And NICOBAR ISLANDS  SOUTH ANDAMAN   43.7  26.0   18.6   90.5   \n",
       "2  ANDAMAN And NICOBAR ISLANDS  N & M ANDAMAN   32.7  15.9    8.6   53.4   \n",
       "3            ARUNACHAL PRADESH          LOHIT   42.2  80.8  176.4  358.5   \n",
       "4            ARUNACHAL PRADESH     EAST SIANG   33.3  79.5  105.9  216.5   \n",
       "\n",
       "     MAY    JUN    JUL    AUG    SEP    OCT    NOV    DEC  ANNUAL  JAN+FEB  \\\n",
       "0  358.5  295.5  285.0  271.9  354.8  326.0  315.2  250.9  2805.2    165.2   \n",
       "1  374.4  457.2  421.3  423.1  455.6  301.2  275.8  128.3  3015.7     69.7   \n",
       "2  343.6  503.3  465.4  460.9  454.8  276.1  198.6  100.0  2913.3     48.6   \n",
       "3  306.4  447.0  660.1  427.8  313.6  167.1   34.1   29.8  3043.8    123.0   \n",
       "4  323.0  738.3  990.9  711.2  568.0  206.9   29.5   31.7  4034.7    112.8   \n",
       "\n",
       "     MAM    JJAS    OND  \n",
       "0  540.7  1207.2  892.1  \n",
       "1  483.5  1757.2  705.3  \n",
       "2  405.6  1884.4  574.7  \n",
       "3  841.3  1848.5  231.0  \n",
       "4  645.4  3008.4  268.1  "
      ]
     },
     "execution_count": 2,
     "metadata": {},
     "output_type": "execute_result"
    }
   ],
   "source": [
    "dataset = pd.read_excel(\"District_Rainfall_Normal_0.xls\")\n",
    "dataset.head()"
   ]
  },
  {
   "cell_type": "code",
   "execution_count": 3,
   "metadata": {},
   "outputs": [],
   "source": [
    "x = dataset.iloc[:,2:5]\n",
    "y = dataset.iloc[:,5]"
   ]
  },
  {
   "cell_type": "markdown",
   "metadata": {},
   "source": [
    "# Split the data into train and test part"
   ]
  },
  {
   "cell_type": "code",
   "execution_count": 4,
   "metadata": {},
   "outputs": [],
   "source": [
    "x_train, x_test, y_train, y_test = train_test_split(x,y, test_size = 0.30, random_state=1)"
   ]
  },
  {
   "cell_type": "code",
   "execution_count": 5,
   "metadata": {},
   "outputs": [
    {
     "data": {
      "text/plain": [
       "(193, 3)"
      ]
     },
     "execution_count": 5,
     "metadata": {},
     "output_type": "execute_result"
    }
   ],
   "source": [
    "x_test.shape"
   ]
  },
  {
   "cell_type": "markdown",
   "metadata": {},
   "source": [
    "# Create the model"
   ]
  },
  {
   "cell_type": "code",
   "execution_count": 6,
   "metadata": {},
   "outputs": [],
   "source": [
    "model = LinearRegression()"
   ]
  },
  {
   "cell_type": "code",
   "execution_count": 7,
   "metadata": {},
   "outputs": [],
   "source": [
    "model = model.fit(x_train,y_train)"
   ]
  },
  {
   "cell_type": "code",
   "execution_count": 8,
   "metadata": {},
   "outputs": [
    {
     "name": "stdout",
     "output_type": "stream",
     "text": [
      "[ 2.01598461e+01  1.37538551e+01  2.53485906e+01  1.86119605e+01\n",
      "  2.13528139e+02  2.29346944e+01  2.82509714e+01  6.79857878e+00\n",
      "  2.02274940e+01  3.30330861e+01  2.09235102e+01  2.10046714e+01\n",
      "  2.87611680e+01  2.08778327e+01  1.18252570e+02  2.48828352e+01\n",
      "  1.95098741e+02  3.51596899e+00  9.91211150e+00  1.46282666e+01\n",
      "  1.08563665e+02  8.01509400e+01  2.57631430e+00  1.10820054e+02\n",
      "  2.28238728e+01  7.71531087e+01  2.64285704e+01  5.93179302e+00\n",
      "  5.78417964e+00  6.96310637e+01  2.77928575e+02  1.38847648e+01\n",
      "  3.31700938e+01  2.96138999e+01  2.08677270e+01  1.57351934e+01\n",
      "  5.32819759e+01  2.04266402e+01  1.63471731e+01  1.05809966e+02\n",
      "  2.47774742e+01  1.33766882e+02  3.13551732e+01  2.01739804e+01\n",
      "  1.37982154e+01  3.53284140e+01  1.75311550e+02  1.22996190e+01\n",
      "  3.11548630e+01  1.37015705e+01  1.37755275e+02  2.39574631e+01\n",
      "  1.76821548e+01  2.75002459e+01  1.38748895e+01  1.10501703e+02\n",
      "  1.40601229e+01  3.91167023e+01  1.14523229e+01  1.88757522e+02\n",
      "  2.01190479e+01  2.08677270e+01  2.01739804e+01  2.30813870e+01\n",
      "  1.77512167e+01 -3.20222369e+01  2.54842154e+01  2.38487986e+01\n",
      "  1.93322014e+01  6.45475294e+00  5.60739172e+00  2.08677270e+01\n",
      "  2.54390876e+01  1.71433645e+01  1.32510483e+01  1.18250159e+02\n",
      "  1.72561849e+02  1.96885500e+01  1.10289967e+01  2.41845456e+01\n",
      "  3.29900906e+01  2.39583753e+01  5.68270482e+00 -8.41137492e-01\n",
      "  7.70591124e+01  1.61861432e+01  1.86562173e+01  2.08650857e+01\n",
      "  9.11832717e+00  5.37259104e+00  2.02867092e+01  1.84101821e+01\n",
      "  9.77961091e+01  1.53020658e+02  1.88765590e+01  5.38095768e+01\n",
      "  2.48929531e+01  1.16082637e+01  6.47567235e+00  4.03077854e+01\n",
      "  5.09759848e+01  2.43569596e+01  1.21129030e+01  1.56911961e+01\n",
      "  2.51579811e+01  5.84787572e+01  1.37429022e+01  3.37096675e+01\n",
      "  9.92412261e+00  2.95452991e+01  1.95098741e+02  8.08668188e+00\n",
      "  1.37191616e+01  2.73447101e+01  2.15162010e+01  2.40283001e+01\n",
      "  1.97006827e+00  1.81621588e+01  7.84264036e+01  6.75118597e+01\n",
      "  1.54594892e+01 -3.80449724e+01  9.94045967e+01  2.36704100e+01\n",
      "  3.98398820e+01  1.18132452e+02  2.07469881e+01  1.86459454e+02\n",
      "  2.43929805e+00  2.99398458e+01  7.44359485e+01  2.30426158e+01\n",
      "  1.82423183e+01  1.16886659e+01  2.07778759e+01  3.76959302e+01\n",
      "  2.69155287e+01  2.53227263e+01  1.02052994e+02  1.88578442e+01\n",
      "  2.84202839e+01  2.68186879e+02  2.32690871e+01  5.62310072e+02\n",
      "  1.16601202e+01  2.43437213e+01  7.21800853e+01  3.66187850e+01\n",
      "  1.65059243e+01  2.68384069e+01  1.28828676e+01  1.78736602e+01\n",
      "  3.52408647e+01  1.07762291e+02  6.82055632e+01  1.26657548e+02\n",
      "  2.34658597e+01  2.08677270e+01  9.66195314e+01  2.63129681e+01\n",
      "  2.37769508e+01  1.03380216e+01  1.26693324e+02  6.95648695e+01\n",
      "  9.63498777e+01  2.19237746e+01  3.10078395e+01  1.13480986e+02\n",
      "  1.57548697e+01  2.04600001e+01  1.99536563e+01  1.21530469e-01\n",
      " -3.74390848e+01  1.66967923e+01  3.11321333e+02  2.85199706e+01\n",
      "  9.41963663e+00  7.18548413e+01  1.46437272e+01  3.69005877e+01\n",
      "  3.79536228e+00  1.19500861e+02  1.58477920e+01  1.05694300e+02\n",
      "  2.79165538e+01  2.64428354e+01  1.30003069e+02  3.09446500e+01\n",
      "  3.59843915e+01  8.30369955e+01  2.10925204e+01  4.95073948e+01\n",
      "  1.32724293e+01]\n"
     ]
    }
   ],
   "source": [
    "y_pred = model.predict(x_test)\n",
    "print(y_pred)"
   ]
  },
  {
   "cell_type": "code",
   "execution_count": 9,
   "metadata": {
    "scrolled": true
   },
   "outputs": [
    {
     "name": "stdout",
     "output_type": "stream",
     "text": [
      "179     15.4\n",
      "533      4.3\n",
      "526     14.7\n",
      "260      7.4\n",
      "82     272.8\n",
      "       ...  \n",
      "535     22.7\n",
      "76     137.9\n",
      "458      3.4\n",
      "571     70.4\n",
      "186      9.6\n",
      "Name: APR, Length: 193, dtype: float64\n"
     ]
    }
   ],
   "source": [
    "print(y_test)"
   ]
  },
  {
   "cell_type": "markdown",
   "metadata": {},
   "source": [
    "# Metrics for the model Performance"
   ]
  },
  {
   "cell_type": "code",
   "execution_count": 10,
   "metadata": {},
   "outputs": [],
   "source": [
    "from sklearn import metrics"
   ]
  },
  {
   "cell_type": "code",
   "execution_count": 11,
   "metadata": {},
   "outputs": [
    {
     "name": "stdout",
     "output_type": "stream",
     "text": [
      "MAE:  21.44849050388247 MSE:  1127.9731373266773 r2score:  0.8151376777056245\n"
     ]
    }
   ],
   "source": [
    "mae = metrics.mean_absolute_error(y_test,y_pred)\n",
    "mse = metrics.mean_squared_error(y_test,y_pred)\n",
    "r2score = metrics.r2_score(y_test,y_pred)\n",
    "\n",
    "print(\"MAE: \", mae, \"MSE: \", mse, \"r2score: \", r2score)"
   ]
  }
 ],
 "metadata": {
  "kernelspec": {
   "display_name": "Python 3",
   "language": "python",
   "name": "python3"
  },
  "language_info": {
   "codemirror_mode": {
    "name": "ipython",
    "version": 3
   },
   "file_extension": ".py",
   "mimetype": "text/x-python",
   "name": "python",
   "nbconvert_exporter": "python",
   "pygments_lexer": "ipython3",
   "version": "3.7.3"
  }
 },
 "nbformat": 4,
 "nbformat_minor": 2
}
